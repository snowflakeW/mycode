{
 "cells": [
  {
   "cell_type": "code",
   "execution_count": 22,
   "metadata": {},
   "outputs": [
    {
     "name": "stdout",
     "output_type": "stream",
     "text": [
      "current let is : b\n",
      "perm is : c\n",
      "current let is : c\n",
      "perm is : b\n",
      "current let is : a\n",
      "perm is : bc\n",
      "current let is : a\n",
      "perm is : cb\n",
      "current let is : a\n",
      "perm is : c\n",
      "current let is : c\n",
      "perm is : a\n",
      "current let is : b\n",
      "perm is : ac\n",
      "current let is : b\n",
      "perm is : ca\n",
      "current let is : a\n",
      "perm is : b\n",
      "current let is : b\n",
      "perm is : a\n",
      "current let is : c\n",
      "perm is : ab\n",
      "current let is : c\n",
      "perm is : ba\n"
     ]
    },
    {
     "data": {
      "text/plain": [
       "['abc', 'acb', 'bac', 'bca', 'cab', 'cba']"
      ]
     },
     "execution_count": 22,
     "metadata": {},
     "output_type": "execute_result"
    }
   ],
   "source": [
    "def permute(s):\n",
    "    \n",
    "    out = []\n",
    "    \n",
    "    if len(s) == 1:\n",
    "        out = [s]\n",
    "    \n",
    "    else:\n",
    "        \n",
    "        # for every letter in string\n",
    "        \n",
    "        for i, let in enumerate(s):\n",
    "            \n",
    "            # for every permutation resulting from step 2 and 3\n",
    "            for perm in permute(s[:i] + s[i+1:]):\n",
    "                \n",
    "                print('current let is :', let)\n",
    "                print('perm is :', perm)\n",
    "                out += [let + perm]\n",
    "    return out\n",
    "\n",
    "permute('abc')"
   ]
  },
  {
   "cell_type": "code",
   "execution_count": 13,
   "metadata": {
    "scrolled": true
   },
   "outputs": [
    {
     "name": "stdout",
     "output_type": "stream",
     "text": [
      "current let is : b\n",
      "perm is : c\n",
      "current let is : c\n",
      "perm is : b\n",
      "current let is : a\n",
      "perm is : bc\n",
      "current let is : a\n",
      "perm is : cb\n",
      "current let is : a\n",
      "perm is : c\n",
      "current let is : c\n",
      "perm is : a\n",
      "current let is : b\n",
      "perm is : ac\n",
      "current let is : b\n",
      "perm is : ca\n",
      "current let is : a\n",
      "perm is : b\n",
      "current let is : b\n",
      "perm is : a\n",
      "current let is : c\n",
      "perm is : ab\n",
      "current let is : c\n",
      "perm is : ba\n"
     ]
    },
    {
     "data": {
      "text/plain": [
       "['abc', 'acb', 'bac', 'bca', 'cab', 'cba']"
      ]
     },
     "execution_count": 13,
     "metadata": {},
     "output_type": "execute_result"
    }
   ],
   "source": [
    "permute('abc')"
   ]
  },
  {
   "cell_type": "code",
   "execution_count": null,
   "metadata": {},
   "outputs": [],
   "source": []
  }
 ],
 "metadata": {
  "kernelspec": {
   "display_name": "Python 3",
   "language": "python",
   "name": "python3"
  },
  "language_info": {
   "codemirror_mode": {
    "name": "ipython",
    "version": 3
   },
   "file_extension": ".py",
   "mimetype": "text/x-python",
   "name": "python",
   "nbconvert_exporter": "python",
   "pygments_lexer": "ipython3",
   "version": "3.7.4"
  }
 },
 "nbformat": 4,
 "nbformat_minor": 2
}
